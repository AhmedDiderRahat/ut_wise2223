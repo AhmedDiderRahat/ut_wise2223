{
 "cells": [
  {
   "cell_type": "markdown",
   "id": "5de43829",
   "metadata": {},
   "source": [
    "### Chapter -2: Exploratory Data Analysis (EDA): "
   ]
  },
  {
   "cell_type": "code",
   "execution_count": 1,
   "id": "9188a0a5",
   "metadata": {},
   "outputs": [],
   "source": [
    "import pandas as pd\n",
    "import numpy as np\n",
    "import seaborn as sns\n",
    "pd.options.mode.chained_assignment = None\n",
    "from matplotlib import pyplot as plt"
   ]
  },
  {
   "cell_type": "code",
   "execution_count": 2,
   "id": "0244b2ac",
   "metadata": {
    "scrolled": false
   },
   "outputs": [
    {
     "data": {
      "text/html": [
       "<div>\n",
       "<style scoped>\n",
       "    .dataframe tbody tr th:only-of-type {\n",
       "        vertical-align: middle;\n",
       "    }\n",
       "\n",
       "    .dataframe tbody tr th {\n",
       "        vertical-align: top;\n",
       "    }\n",
       "\n",
       "    .dataframe thead th {\n",
       "        text-align: right;\n",
       "    }\n",
       "</style>\n",
       "<table border=\"1\" class=\"dataframe\">\n",
       "  <thead>\n",
       "    <tr style=\"text-align: right;\">\n",
       "      <th></th>\n",
       "      <th>recorded_at</th>\n",
       "      <th>direction</th>\n",
       "      <th>line_name</th>\n",
       "      <th>org_name</th>\n",
       "      <th>org_lat</th>\n",
       "      <th>org_long</th>\n",
       "      <th>dest_name</th>\n",
       "      <th>dest_lat</th>\n",
       "      <th>dest_long</th>\n",
       "      <th>vech_name</th>\n",
       "      <th>...</th>\n",
       "      <th>arrivial_app</th>\n",
       "      <th>dist_from_stop</th>\n",
       "      <th>expected_arr_time</th>\n",
       "      <th>schedule_arr_time</th>\n",
       "      <th>weekend_status</th>\n",
       "      <th>day_of_year</th>\n",
       "      <th>month_number</th>\n",
       "      <th>day_of_month</th>\n",
       "      <th>time_of_day</th>\n",
       "      <th>delays</th>\n",
       "    </tr>\n",
       "  </thead>\n",
       "  <tbody>\n",
       "    <tr>\n",
       "      <th>0</th>\n",
       "      <td>2017-06-05 07:20:34</td>\n",
       "      <td>0.0</td>\n",
       "      <td>B46-SBS</td>\n",
       "      <td>UTICA AV/AV N</td>\n",
       "      <td>40.619896</td>\n",
       "      <td>-73.926826</td>\n",
       "      <td>SELECT BUS De KALB AV via UTICA</td>\n",
       "      <td>40.693672</td>\n",
       "      <td>-73.931168</td>\n",
       "      <td>NYCT_7330</td>\n",
       "      <td>...</td>\n",
       "      <td>approaching</td>\n",
       "      <td>102.0</td>\n",
       "      <td>2017-06-05 07:20:54</td>\n",
       "      <td>2017-06-05 07:19:03</td>\n",
       "      <td>False</td>\n",
       "      <td>156</td>\n",
       "      <td>6</td>\n",
       "      <td>5</td>\n",
       "      <td>439</td>\n",
       "      <td>1.85</td>\n",
       "    </tr>\n",
       "    <tr>\n",
       "      <th>1</th>\n",
       "      <td>2017-12-08 12:09:55</td>\n",
       "      <td>1.0</td>\n",
       "      <td>M101</td>\n",
       "      <td>LEXINGTON AV/E 100 ST</td>\n",
       "      <td>40.787506</td>\n",
       "      <td>-73.949830</td>\n",
       "      <td>LTD EAST VILLAGE 6 ST via LEX AV</td>\n",
       "      <td>40.729113</td>\n",
       "      <td>-73.990259</td>\n",
       "      <td>NYCT_6057</td>\n",
       "      <td>...</td>\n",
       "      <td>&lt; 1 stop away</td>\n",
       "      <td>395.0</td>\n",
       "      <td>2017-12-08 12:12:01</td>\n",
       "      <td>2017-12-08 12:01:59</td>\n",
       "      <td>False</td>\n",
       "      <td>342</td>\n",
       "      <td>12</td>\n",
       "      <td>8</td>\n",
       "      <td>721</td>\n",
       "      <td>10.03</td>\n",
       "    </tr>\n",
       "    <tr>\n",
       "      <th>2</th>\n",
       "      <td>2017-10-25 05:41:15</td>\n",
       "      <td>0.0</td>\n",
       "      <td>Bx31</td>\n",
       "      <td>TREMONT AV/LANE AV</td>\n",
       "      <td>40.840864</td>\n",
       "      <td>-73.842457</td>\n",
       "      <td>WOODLAWN KATONAH AV</td>\n",
       "      <td>40.902777</td>\n",
       "      <td>-73.868318</td>\n",
       "      <td>NYCT_7703</td>\n",
       "      <td>...</td>\n",
       "      <td>approaching</td>\n",
       "      <td>67.0</td>\n",
       "      <td>2017-10-25 05:41:31</td>\n",
       "      <td>2017-10-25 05:41:25</td>\n",
       "      <td>False</td>\n",
       "      <td>298</td>\n",
       "      <td>10</td>\n",
       "      <td>25</td>\n",
       "      <td>341</td>\n",
       "      <td>0.10</td>\n",
       "    </tr>\n",
       "    <tr>\n",
       "      <th>3</th>\n",
       "      <td>2017-10-05 13:45:21</td>\n",
       "      <td>1.0</td>\n",
       "      <td>Q20A</td>\n",
       "      <td>COLLEGE PT BL/15 AV</td>\n",
       "      <td>40.784074</td>\n",
       "      <td>-73.845893</td>\n",
       "      <td>JAMAICA  MERRICK BL via 20 AV via MAIN S</td>\n",
       "      <td>40.704933</td>\n",
       "      <td>-73.793318</td>\n",
       "      <td>NYCT_7391</td>\n",
       "      <td>...</td>\n",
       "      <td>approaching</td>\n",
       "      <td>97.0</td>\n",
       "      <td>2017-10-05 13:45:57</td>\n",
       "      <td>2017-10-05 13:45:48</td>\n",
       "      <td>False</td>\n",
       "      <td>278</td>\n",
       "      <td>10</td>\n",
       "      <td>5</td>\n",
       "      <td>825</td>\n",
       "      <td>0.15</td>\n",
       "    </tr>\n",
       "    <tr>\n",
       "      <th>4</th>\n",
       "      <td>2017-12-13 07:18:53</td>\n",
       "      <td>0.0</td>\n",
       "      <td>Bx34</td>\n",
       "      <td>VALENTINE AV/E FORDHAM RD</td>\n",
       "      <td>40.862431</td>\n",
       "      <td>-73.895859</td>\n",
       "      <td>WOODLAWN KATONAH AV</td>\n",
       "      <td>40.902777</td>\n",
       "      <td>-73.868318</td>\n",
       "      <td>NYCT_4102</td>\n",
       "      <td>...</td>\n",
       "      <td>approaching</td>\n",
       "      <td>58.0</td>\n",
       "      <td>2017-12-13 07:19:14</td>\n",
       "      <td>2017-12-13 07:19:00</td>\n",
       "      <td>False</td>\n",
       "      <td>347</td>\n",
       "      <td>12</td>\n",
       "      <td>13</td>\n",
       "      <td>439</td>\n",
       "      <td>0.23</td>\n",
       "    </tr>\n",
       "  </tbody>\n",
       "</table>\n",
       "<p>5 rows × 23 columns</p>\n",
       "</div>"
      ],
      "text/plain": [
       "           recorded_at  direction line_name                   org_name  \\\n",
       "0  2017-06-05 07:20:34        0.0   B46-SBS              UTICA AV/AV N   \n",
       "1  2017-12-08 12:09:55        1.0      M101      LEXINGTON AV/E 100 ST   \n",
       "2  2017-10-25 05:41:15        0.0      Bx31         TREMONT AV/LANE AV   \n",
       "3  2017-10-05 13:45:21        1.0      Q20A        COLLEGE PT BL/15 AV   \n",
       "4  2017-12-13 07:18:53        0.0      Bx34  VALENTINE AV/E FORDHAM RD   \n",
       "\n",
       "     org_lat   org_long                                 dest_name   dest_lat  \\\n",
       "0  40.619896 -73.926826           SELECT BUS De KALB AV via UTICA  40.693672   \n",
       "1  40.787506 -73.949830          LTD EAST VILLAGE 6 ST via LEX AV  40.729113   \n",
       "2  40.840864 -73.842457                       WOODLAWN KATONAH AV  40.902777   \n",
       "3  40.784074 -73.845893  JAMAICA  MERRICK BL via 20 AV via MAIN S  40.704933   \n",
       "4  40.862431 -73.895859                       WOODLAWN KATONAH AV  40.902777   \n",
       "\n",
       "   dest_long  vech_name  ...   arrivial_app  dist_from_stop  \\\n",
       "0 -73.931168  NYCT_7330  ...    approaching           102.0   \n",
       "1 -73.990259  NYCT_6057  ...  < 1 stop away           395.0   \n",
       "2 -73.868318  NYCT_7703  ...    approaching            67.0   \n",
       "3 -73.793318  NYCT_7391  ...    approaching            97.0   \n",
       "4 -73.868318  NYCT_4102  ...    approaching            58.0   \n",
       "\n",
       "     expected_arr_time    schedule_arr_time  weekend_status day_of_year  \\\n",
       "0  2017-06-05 07:20:54  2017-06-05 07:19:03           False         156   \n",
       "1  2017-12-08 12:12:01  2017-12-08 12:01:59           False         342   \n",
       "2  2017-10-25 05:41:31  2017-10-25 05:41:25           False         298   \n",
       "3  2017-10-05 13:45:57  2017-10-05 13:45:48           False         278   \n",
       "4  2017-12-13 07:19:14  2017-12-13 07:19:00           False         347   \n",
       "\n",
       "  month_number  day_of_month  time_of_day  delays  \n",
       "0            6             5          439    1.85  \n",
       "1           12             8          721   10.03  \n",
       "2           10            25          341    0.10  \n",
       "3           10             5          825    0.15  \n",
       "4           12            13          439    0.23  \n",
       "\n",
       "[5 rows x 23 columns]"
      ]
     },
     "execution_count": 2,
     "metadata": {},
     "output_type": "execute_result"
    }
   ],
   "source": [
    "# read the data set\n",
    "df = pd.read_csv('../data/nyc_data/updated_dataset.csv', compression='gzip')\n",
    "df.head()"
   ]
  },
  {
   "cell_type": "code",
   "execution_count": 3,
   "id": "524463b3",
   "metadata": {},
   "outputs": [
    {
     "data": {
      "text/plain": [
       "(1000000, 23)"
      ]
     },
     "execution_count": 3,
     "metadata": {},
     "output_type": "execute_result"
    }
   ],
   "source": [
    "# size of the dataset\n",
    "df.shape"
   ]
  },
  {
   "cell_type": "markdown",
   "id": "19f37550",
   "metadata": {},
   "source": [
    "<b>Note:</b> There are 1M datapoints and 23 variables"
   ]
  },
  {
   "cell_type": "code",
   "execution_count": 4,
   "id": "41d1698a",
   "metadata": {},
   "outputs": [
    {
     "name": "stdout",
     "output_type": "stream",
     "text": [
      "In row recorded_at, total number of Null values: 0\n",
      "In row direction, total number of Null values: 0\n",
      "In row line_name, total number of Null values: 0\n",
      "In row org_name, total number of Null values: 0\n",
      "In row org_lat, total number of Null values: 0\n",
      "In row org_long, total number of Null values: 0\n",
      "In row dest_name, total number of Null values: 0\n",
      "In row dest_lat, total number of Null values: 0\n",
      "In row dest_long, total number of Null values: 0\n",
      "In row vech_name, total number of Null values: 0\n",
      "In row vech_lat, total number of Null values: 0\n",
      "In row vech_long, total number of Null values: 0\n",
      "In row next_point_name, total number of Null values: 0\n",
      "In row arrivial_app, total number of Null values: 0\n",
      "In row dist_from_stop, total number of Null values: 0\n",
      "In row expected_arr_time, total number of Null values: 0\n",
      "In row schedule_arr_time, total number of Null values: 0\n",
      "In row weekend_status, total number of Null values: 0\n",
      "In row day_of_year, total number of Null values: 0\n",
      "In row month_number, total number of Null values: 0\n",
      "In row day_of_month, total number of Null values: 0\n",
      "In row time_of_day, total number of Null values: 0\n",
      "In row delays, total number of Null values: 0\n"
     ]
    }
   ],
   "source": [
    "# Null value counts\n",
    "all_columns = list(df.columns)\n",
    "\n",
    "for element in all_columns:\n",
    "    print(f'In row {element}, total number of Null values: {df[element].isna().sum()}')"
   ]
  },
  {
   "cell_type": "markdown",
   "id": "b6354ee2",
   "metadata": {},
   "source": [
    "<b>Note:</b> No Null values found"
   ]
  },
  {
   "cell_type": "markdown",
   "id": "2fc80ce3",
   "metadata": {},
   "source": [
    "### Univariate Analysis: \n",
    "Here, I try to demonstrate the univariate statistics of each column"
   ]
  },
  {
   "cell_type": "code",
   "execution_count": 5,
   "id": "d1ac4b41",
   "metadata": {},
   "outputs": [
    {
     "data": {
      "image/png": "[encoded data removed]",
      "text/plain": [
       "<Figure size 576x432 with 1 Axes>"
      ]
     },
     "metadata": {
      "needs_background": "light"
     },
     "output_type": "display_data"
    }
   ],
   "source": [
    "# Direction: is 0|1:= Outbound & Inbound directions for the bus route\n",
    "df['direction'].value_counts().plot(kind='bar',  title = 'Frequency of direction values', figsize=(8,6))\n",
    "\n",
    "plt.savefig('../Documentation/Figure/fig_01.png',  bbox_inches='tight')\n",
    "plt.show()"
   ]
  },
  {
   "cell_type": "code",
   "execution_count": 6,
   "id": "c38a9d30",
   "metadata": {},
   "outputs": [
    {
     "name": "stdout",
     "output_type": "stream",
     "text": [
      "Total Number of Unique Line: 242\n"
     ]
    }
   ],
   "source": [
    "# Total Unique line name\n",
    "print(f'Total Number of Unique Line: {len(df.line_name.unique())}')"
   ]
  },
  {
   "cell_type": "code",
   "execution_count": 7,
   "id": "0d136528",
   "metadata": {},
   "outputs": [
    {
     "data": {
      "text/html": [
       "<div>\n",
       "<style scoped>\n",
       "    .dataframe tbody tr th:only-of-type {\n",
       "        vertical-align: middle;\n",
       "    }\n",
       "\n",
       "    .dataframe tbody tr th {\n",
       "        vertical-align: top;\n",
       "    }\n",
       "\n",
       "    .dataframe thead th {\n",
       "        text-align: right;\n",
       "    }\n",
       "</style>\n",
       "<table border=\"1\" class=\"dataframe\">\n",
       "  <thead>\n",
       "    <tr style=\"text-align: right;\">\n",
       "      <th></th>\n",
       "      <th>Line Name</th>\n",
       "      <th>Counts</th>\n",
       "    </tr>\n",
       "  </thead>\n",
       "  <tbody>\n",
       "    <tr>\n",
       "      <th>0</th>\n",
       "      <td>B6</td>\n",
       "      <td>17915</td>\n",
       "    </tr>\n",
       "    <tr>\n",
       "      <th>1</th>\n",
       "      <td>B41</td>\n",
       "      <td>15836</td>\n",
       "    </tr>\n",
       "    <tr>\n",
       "      <th>2</th>\n",
       "      <td>Q58</td>\n",
       "      <td>14247</td>\n",
       "    </tr>\n",
       "    <tr>\n",
       "      <th>3</th>\n",
       "      <td>Q44-SBS</td>\n",
       "      <td>13679</td>\n",
       "    </tr>\n",
       "    <tr>\n",
       "      <th>4</th>\n",
       "      <td>B35</td>\n",
       "      <td>13271</td>\n",
       "    </tr>\n",
       "    <tr>\n",
       "      <th>5</th>\n",
       "      <td>Bx36</td>\n",
       "      <td>13260</td>\n",
       "    </tr>\n",
       "    <tr>\n",
       "      <th>6</th>\n",
       "      <td>M15-SBS</td>\n",
       "      <td>12282</td>\n",
       "    </tr>\n",
       "    <tr>\n",
       "      <th>7</th>\n",
       "      <td>M101</td>\n",
       "      <td>12031</td>\n",
       "    </tr>\n",
       "    <tr>\n",
       "      <th>8</th>\n",
       "      <td>B82</td>\n",
       "      <td>11960</td>\n",
       "    </tr>\n",
       "    <tr>\n",
       "      <th>9</th>\n",
       "      <td>Q27</td>\n",
       "      <td>11877</td>\n",
       "    </tr>\n",
       "  </tbody>\n",
       "</table>\n",
       "</div>"
      ],
      "text/plain": [
       "  Line Name  Counts\n",
       "0        B6   17915\n",
       "1       B41   15836\n",
       "2       Q58   14247\n",
       "3   Q44-SBS   13679\n",
       "4       B35   13271\n",
       "5      Bx36   13260\n",
       "6   M15-SBS   12282\n",
       "7      M101   12031\n",
       "8       B82   11960\n",
       "9       Q27   11877"
      ]
     },
     "execution_count": 7,
     "metadata": {},
     "output_type": "execute_result"
    }
   ],
   "source": [
    "# Getting Top 10 frequent line name\n",
    "df1 = df['line_name'].value_counts().iloc[:10].rename_axis('Line Name').reset_index(name='Counts')\n",
    "df1"
   ]
  },
  {
   "cell_type": "code",
   "execution_count": 8,
   "id": "445cdfb8",
   "metadata": {
    "scrolled": false
   },
   "outputs": [
    {
     "data": {
      "image/png": "[encoded data removed]",
      "text/plain": [
       "<Figure size 864x576 with 1 Axes>"
      ]
     },
     "metadata": {
      "needs_background": "light"
     },
     "output_type": "display_data"
    }
   ],
   "source": [
    "# Plot: Top 10 frequent line name\n",
    "df1.plot(x = 'Line Name', y = 'Counts', kind='bar', title = 'Top 10 Line Name and their frequency', figsize=(12,8))\n",
    "plt.savefig('../Documentation/Figure/fig_02.png',  bbox_inches='tight')\n",
    "plt.show()"
   ]
  },
  {
   "cell_type": "code",
   "execution_count": 9,
   "id": "77d5e938",
   "metadata": {},
   "outputs": [
    {
     "name": "stdout",
     "output_type": "stream",
     "text": [
      "Total Number of Unique Source Stop: 628\n"
     ]
    }
   ],
   "source": [
    "# Total number of unique source stop\n",
    "print(f'Total Number of Unique Source Stop: {len(df.org_name.unique())}')"
   ]
  },
  {
   "cell_type": "code",
   "execution_count": 10,
   "id": "302facd0",
   "metadata": {},
   "outputs": [
    {
     "data": {
      "text/html": [
       "<div>\n",
       "<style scoped>\n",
       "    .dataframe tbody tr th:only-of-type {\n",
       "        vertical-align: middle;\n",
       "    }\n",
       "\n",
       "    .dataframe tbody tr th {\n",
       "        vertical-align: top;\n",
       "    }\n",
       "\n",
       "    .dataframe thead th {\n",
       "        text-align: right;\n",
       "    }\n",
       "</style>\n",
       "<table border=\"1\" class=\"dataframe\">\n",
       "  <thead>\n",
       "    <tr style=\"text-align: right;\">\n",
       "      <th></th>\n",
       "      <th>Source Name</th>\n",
       "      <th>Counts</th>\n",
       "    </tr>\n",
       "  </thead>\n",
       "  <tbody>\n",
       "    <tr>\n",
       "      <th>0</th>\n",
       "      <td>E 126 ST/2 AV</td>\n",
       "      <td>15808</td>\n",
       "    </tr>\n",
       "    <tr>\n",
       "      <th>1</th>\n",
       "      <td>MERRICK BL/ARCHER AV</td>\n",
       "      <td>14427</td>\n",
       "    </tr>\n",
       "    <tr>\n",
       "      <th>2</th>\n",
       "      <td>W 179 ST/BROADWAY</td>\n",
       "      <td>13639</td>\n",
       "    </tr>\n",
       "    <tr>\n",
       "      <th>3</th>\n",
       "      <td>138 ST/37 AV</td>\n",
       "      <td>10101</td>\n",
       "    </tr>\n",
       "    <tr>\n",
       "      <th>4</th>\n",
       "      <td>HARWAY AV/BAY 37 ST</td>\n",
       "      <td>9614</td>\n",
       "    </tr>\n",
       "    <tr>\n",
       "      <th>5</th>\n",
       "      <td>4 AV/E 10 ST</td>\n",
       "      <td>9328</td>\n",
       "    </tr>\n",
       "    <tr>\n",
       "      <th>6</th>\n",
       "      <td>ASTOR PL/3 AV</td>\n",
       "      <td>8704</td>\n",
       "    </tr>\n",
       "    <tr>\n",
       "      <th>7</th>\n",
       "      <td>TEARDROP/LAYOVER</td>\n",
       "      <td>8494</td>\n",
       "    </tr>\n",
       "    <tr>\n",
       "      <th>8</th>\n",
       "      <td>STILLWELL TERMINAL BUS LOOP</td>\n",
       "      <td>8081</td>\n",
       "    </tr>\n",
       "    <tr>\n",
       "      <th>9</th>\n",
       "      <td>ELTINGVILLE/TRANSIT CENTER</td>\n",
       "      <td>8071</td>\n",
       "    </tr>\n",
       "  </tbody>\n",
       "</table>\n",
       "</div>"
      ],
      "text/plain": [
       "                   Source Name  Counts\n",
       "0                E 126 ST/2 AV   15808\n",
       "1         MERRICK BL/ARCHER AV   14427\n",
       "2            W 179 ST/BROADWAY   13639\n",
       "3                 138 ST/37 AV   10101\n",
       "4          HARWAY AV/BAY 37 ST    9614\n",
       "5                 4 AV/E 10 ST    9328\n",
       "6                ASTOR PL/3 AV    8704\n",
       "7             TEARDROP/LAYOVER    8494\n",
       "8  STILLWELL TERMINAL BUS LOOP    8081\n",
       "9   ELTINGVILLE/TRANSIT CENTER    8071"
      ]
     },
     "execution_count": 10,
     "metadata": {},
     "output_type": "execute_result"
    }
   ],
   "source": [
    "# Top 10 Source Stop\n",
    "df2 = df['org_name'].value_counts().iloc[:10].rename_axis('Source Name').reset_index(name='Counts')\n",
    "df2"
   ]
  },
  {
   "cell_type": "code",
   "execution_count": 11,
   "id": "2b02d1cf",
   "metadata": {},
   "outputs": [
    {
     "data": {
      "image/png": "[encoded data removed]",
      "text/plain": [
       "<Figure size 864x576 with 1 Axes>"
      ]
     },
     "metadata": {
      "needs_background": "light"
     },
     "output_type": "display_data"
    }
   ],
   "source": [
    "# Plot: top 10 Source Stop\n",
    "df2.plot(x = 'Source Name', y = 'Counts', kind='bar', title = 'Top 10 Source and their frequency', figsize=(12,8))\n",
    "plt.savefig('../Documentation/Figure/fig_03.png',  bbox_inches='tight')\n",
    "plt.show()"
   ]
  },
  {
   "cell_type": "code",
   "execution_count": 12,
   "id": "a2369202",
   "metadata": {},
   "outputs": [
    {
     "name": "stdout",
     "output_type": "stream",
     "text": [
      "Total Number of Unique Destination Stop: 651\n"
     ]
    }
   ],
   "source": [
    "# Total number of unique destination stop\n",
    "print(f'Total Number of Unique Destination Stop: {len(df.dest_name.unique())}')"
   ]
  },
  {
   "cell_type": "code",
   "execution_count": 13,
   "id": "19338bcf",
   "metadata": {},
   "outputs": [
    {
     "data": {
      "text/html": [
       "<div>\n",
       "<style scoped>\n",
       "    .dataframe tbody tr th:only-of-type {\n",
       "        vertical-align: middle;\n",
       "    }\n",
       "\n",
       "    .dataframe tbody tr th {\n",
       "        vertical-align: top;\n",
       "    }\n",
       "\n",
       "    .dataframe thead th {\n",
       "        text-align: right;\n",
       "    }\n",
       "</style>\n",
       "<table border=\"1\" class=\"dataframe\">\n",
       "  <thead>\n",
       "    <tr style=\"text-align: right;\">\n",
       "      <th></th>\n",
       "      <th>Destination Name</th>\n",
       "      <th>Counts</th>\n",
       "    </tr>\n",
       "  </thead>\n",
       "  <tbody>\n",
       "    <tr>\n",
       "      <th>0</th>\n",
       "      <td>WASHINGTON HTS GW BRIDGE</td>\n",
       "      <td>13936</td>\n",
       "    </tr>\n",
       "    <tr>\n",
       "      <th>1</th>\n",
       "      <td>ST GEORGE FERRY</td>\n",
       "      <td>8480</td>\n",
       "    </tr>\n",
       "    <tr>\n",
       "      <th>2</th>\n",
       "      <td>FLUSHING  MAIN ST STA</td>\n",
       "      <td>7903</td>\n",
       "    </tr>\n",
       "    <tr>\n",
       "      <th>3</th>\n",
       "      <td>W FARMS RD SOUTHERN BL</td>\n",
       "      <td>7891</td>\n",
       "    </tr>\n",
       "    <tr>\n",
       "      <th>4</th>\n",
       "      <td>SELECT BUS JAMAICA via MAIN ST</td>\n",
       "      <td>6846</td>\n",
       "    </tr>\n",
       "    <tr>\n",
       "      <th>5</th>\n",
       "      <td>SELECT BUS SERVICE SOUTH FERRY via 2 AV</td>\n",
       "      <td>6689</td>\n",
       "    </tr>\n",
       "    <tr>\n",
       "      <th>6</th>\n",
       "      <td>SELECT BUS BRONX ZOO via MAIN ST</td>\n",
       "      <td>6673</td>\n",
       "    </tr>\n",
       "    <tr>\n",
       "      <th>7</th>\n",
       "      <td>FLUSHING MAIN ST STA</td>\n",
       "      <td>6453</td>\n",
       "    </tr>\n",
       "    <tr>\n",
       "      <th>8</th>\n",
       "      <td>BED-STUY WOODHULL HOSP</td>\n",
       "      <td>6169</td>\n",
       "    </tr>\n",
       "    <tr>\n",
       "      <th>9</th>\n",
       "      <td>WESTCHESTER SQ</td>\n",
       "      <td>5942</td>\n",
       "    </tr>\n",
       "  </tbody>\n",
       "</table>\n",
       "</div>"
      ],
      "text/plain": [
       "                          Destination Name  Counts\n",
       "0                 WASHINGTON HTS GW BRIDGE   13936\n",
       "1                          ST GEORGE FERRY    8480\n",
       "2                    FLUSHING  MAIN ST STA    7903\n",
       "3                   W FARMS RD SOUTHERN BL    7891\n",
       "4           SELECT BUS JAMAICA via MAIN ST    6846\n",
       "5  SELECT BUS SERVICE SOUTH FERRY via 2 AV    6689\n",
       "6         SELECT BUS BRONX ZOO via MAIN ST    6673\n",
       "7                     FLUSHING MAIN ST STA    6453\n",
       "8                   BED-STUY WOODHULL HOSP    6169\n",
       "9                           WESTCHESTER SQ    5942"
      ]
     },
     "execution_count": 13,
     "metadata": {},
     "output_type": "execute_result"
    }
   ],
   "source": [
    "# Getting top 10 Destination Stop\n",
    "df3 = df['dest_name'].value_counts().iloc[:10].rename_axis('Destination Name').reset_index(name='Counts')\n",
    "df3"
   ]
  },
  {
   "cell_type": "code",
   "execution_count": 14,
   "id": "085d00e2",
   "metadata": {},
   "outputs": [
    {
     "data": {
      "image/png": "[encoded data removed]",
      "text/plain": [
       "<Figure size 864x576 with 1 Axes>"
      ]
     },
     "metadata": {
      "needs_background": "light"
     },
     "output_type": "display_data"
    }
   ],
   "source": [
    "# Plot: top 10 Destination Stop\n",
    "df3.plot(x = 'Destination Name', y = 'Counts', kind='bar', title = 'Top 10 Destination and their frequency', \n",
    "         figsize=(12,8))\n",
    "\n",
    "plt.savefig('../Documentation/Figure/fig_04.png',  bbox_inches='tight')\n",
    "plt.show()"
   ]
  },
  {
   "cell_type": "code",
   "execution_count": 15,
   "id": "2fcb8883",
   "metadata": {},
   "outputs": [
    {
     "name": "stdout",
     "output_type": "stream",
     "text": [
      "Total Number of Unique Bus Name: 4629\n"
     ]
    }
   ],
   "source": [
    "# Getting all bus name\n",
    "print(f'Total Number of Unique Bus Name: {len(df.vech_name.unique())}')"
   ]
  },
  {
   "cell_type": "code",
   "execution_count": 16,
   "id": "c344b6e5",
   "metadata": {},
   "outputs": [
    {
     "data": {
      "text/html": [
       "<div>\n",
       "<style scoped>\n",
       "    .dataframe tbody tr th:only-of-type {\n",
       "        vertical-align: middle;\n",
       "    }\n",
       "\n",
       "    .dataframe tbody tr th {\n",
       "        vertical-align: top;\n",
       "    }\n",
       "\n",
       "    .dataframe thead th {\n",
       "        text-align: right;\n",
       "    }\n",
       "</style>\n",
       "<table border=\"1\" class=\"dataframe\">\n",
       "  <thead>\n",
       "    <tr style=\"text-align: right;\">\n",
       "      <th></th>\n",
       "      <th>Vehicle Name</th>\n",
       "      <th>Counts</th>\n",
       "    </tr>\n",
       "  </thead>\n",
       "  <tbody>\n",
       "    <tr>\n",
       "      <th>0</th>\n",
       "      <td>NYCT_6049</td>\n",
       "      <td>452</td>\n",
       "    </tr>\n",
       "    <tr>\n",
       "      <th>1</th>\n",
       "      <td>NYCT_5937</td>\n",
       "      <td>449</td>\n",
       "    </tr>\n",
       "    <tr>\n",
       "      <th>2</th>\n",
       "      <td>NYCT_6037</td>\n",
       "      <td>435</td>\n",
       "    </tr>\n",
       "    <tr>\n",
       "      <th>3</th>\n",
       "      <td>NYCT_5858</td>\n",
       "      <td>424</td>\n",
       "    </tr>\n",
       "    <tr>\n",
       "      <th>4</th>\n",
       "      <td>NYCT_4240</td>\n",
       "      <td>423</td>\n",
       "    </tr>\n",
       "    <tr>\n",
       "      <th>5</th>\n",
       "      <td>NYCT_6033</td>\n",
       "      <td>421</td>\n",
       "    </tr>\n",
       "    <tr>\n",
       "      <th>6</th>\n",
       "      <td>NYCT_5857</td>\n",
       "      <td>420</td>\n",
       "    </tr>\n",
       "    <tr>\n",
       "      <th>7</th>\n",
       "      <td>NYCT_6051</td>\n",
       "      <td>417</td>\n",
       "    </tr>\n",
       "    <tr>\n",
       "      <th>8</th>\n",
       "      <td>NYCT_4582</td>\n",
       "      <td>413</td>\n",
       "    </tr>\n",
       "    <tr>\n",
       "      <th>9</th>\n",
       "      <td>NYCT_4233</td>\n",
       "      <td>413</td>\n",
       "    </tr>\n",
       "  </tbody>\n",
       "</table>\n",
       "</div>"
      ],
      "text/plain": [
       "  Vehicle Name  Counts\n",
       "0    NYCT_6049     452\n",
       "1    NYCT_5937     449\n",
       "2    NYCT_6037     435\n",
       "3    NYCT_5858     424\n",
       "4    NYCT_4240     423\n",
       "5    NYCT_6033     421\n",
       "6    NYCT_5857     420\n",
       "7    NYCT_6051     417\n",
       "8    NYCT_4582     413\n",
       "9    NYCT_4233     413"
      ]
     },
     "execution_count": 16,
     "metadata": {},
     "output_type": "execute_result"
    }
   ],
   "source": [
    "# Getting top 10 bus name\n",
    "df4 = df['vech_name'].value_counts().iloc[:10].rename_axis('Vehicle Name').reset_index(name='Counts')\n",
    "df4"
   ]
  },
  {
   "cell_type": "code",
   "execution_count": 17,
   "id": "f81aa418",
   "metadata": {},
   "outputs": [
    {
     "data": {
      "image/png": "[encoded data removed]",
      "text/plain": [
       "<Figure size 864x576 with 1 Axes>"
      ]
     },
     "metadata": {
      "needs_background": "light"
     },
     "output_type": "display_data"
    }
   ],
   "source": [
    "# Plot: top 10 bus name\n",
    "df4.plot(x = 'Vehicle Name', y = 'Counts', kind='bar', title = 'Top 10 Bus Name and their frequency', figsize=(12,8))\n",
    "\n",
    "plt.savefig('../Documentation/Figure/fig_05.png',  bbox_inches='tight')\n",
    "plt.show()"
   ]
  },
  {
   "cell_type": "code",
   "execution_count": 18,
   "id": "04fa4428",
   "metadata": {},
   "outputs": [
    {
     "name": "stdout",
     "output_type": "stream",
     "text": [
      "Total Number of Unique Arrival Approximation: 208\n"
     ]
    }
   ],
   "source": [
    "# Total number of unique arrival approximation\n",
    "print(f'Total Number of Unique Arrival Approximation: {len(df.arrivial_app.unique())}')"
   ]
  },
  {
   "cell_type": "code",
   "execution_count": 19,
   "id": "3b19409a",
   "metadata": {},
   "outputs": [
    {
     "data": {
      "text/html": [
       "<div>\n",
       "<style scoped>\n",
       "    .dataframe tbody tr th:only-of-type {\n",
       "        vertical-align: middle;\n",
       "    }\n",
       "\n",
       "    .dataframe tbody tr th {\n",
       "        vertical-align: top;\n",
       "    }\n",
       "\n",
       "    .dataframe thead th {\n",
       "        text-align: right;\n",
       "    }\n",
       "</style>\n",
       "<table border=\"1\" class=\"dataframe\">\n",
       "  <thead>\n",
       "    <tr style=\"text-align: right;\">\n",
       "      <th></th>\n",
       "      <th>Arrival Approximation</th>\n",
       "      <th>Counts</th>\n",
       "    </tr>\n",
       "  </thead>\n",
       "  <tbody>\n",
       "    <tr>\n",
       "      <th>0</th>\n",
       "      <td>approaching</td>\n",
       "      <td>382261</td>\n",
       "    </tr>\n",
       "    <tr>\n",
       "      <th>1</th>\n",
       "      <td>&lt; 1 stop away</td>\n",
       "      <td>341566</td>\n",
       "    </tr>\n",
       "    <tr>\n",
       "      <th>2</th>\n",
       "      <td>at stop</td>\n",
       "      <td>242694</td>\n",
       "    </tr>\n",
       "    <tr>\n",
       "      <th>3</th>\n",
       "      <td>0.6 miles away</td>\n",
       "      <td>6034</td>\n",
       "    </tr>\n",
       "    <tr>\n",
       "      <th>4</th>\n",
       "      <td>0.5 miles away</td>\n",
       "      <td>4493</td>\n",
       "    </tr>\n",
       "    <tr>\n",
       "      <th>5</th>\n",
       "      <td>0.7 miles away</td>\n",
       "      <td>3805</td>\n",
       "    </tr>\n",
       "    <tr>\n",
       "      <th>6</th>\n",
       "      <td>0.8 miles away</td>\n",
       "      <td>2127</td>\n",
       "    </tr>\n",
       "    <tr>\n",
       "      <th>7</th>\n",
       "      <td>0.9 miles away</td>\n",
       "      <td>1723</td>\n",
       "    </tr>\n",
       "    <tr>\n",
       "      <th>8</th>\n",
       "      <td>1.0 miles away</td>\n",
       "      <td>1489</td>\n",
       "    </tr>\n",
       "    <tr>\n",
       "      <th>9</th>\n",
       "      <td>1.1 miles away</td>\n",
       "      <td>978</td>\n",
       "    </tr>\n",
       "  </tbody>\n",
       "</table>\n",
       "</div>"
      ],
      "text/plain": [
       "  Arrival Approximation  Counts\n",
       "0           approaching  382261\n",
       "1         < 1 stop away  341566\n",
       "2               at stop  242694\n",
       "3        0.6 miles away    6034\n",
       "4        0.5 miles away    4493\n",
       "5        0.7 miles away    3805\n",
       "6        0.8 miles away    2127\n",
       "7        0.9 miles away    1723\n",
       "8        1.0 miles away    1489\n",
       "9        1.1 miles away     978"
      ]
     },
     "execution_count": 19,
     "metadata": {},
     "output_type": "execute_result"
    }
   ],
   "source": [
    "# Getting top 10 arrival approximation results\n",
    "df5 = df['arrivial_app'].value_counts().iloc[:10].rename_axis('Arrival Approximation').reset_index(name='Counts')\n",
    "df5"
   ]
  },
  {
   "cell_type": "code",
   "execution_count": 20,
   "id": "b987ad34",
   "metadata": {},
   "outputs": [
    {
     "data": {
      "text/html": [
       "<div>\n",
       "<style scoped>\n",
       "    .dataframe tbody tr th:only-of-type {\n",
       "        vertical-align: middle;\n",
       "    }\n",
       "\n",
       "    .dataframe tbody tr th {\n",
       "        vertical-align: top;\n",
       "    }\n",
       "\n",
       "    .dataframe thead th {\n",
       "        text-align: right;\n",
       "    }\n",
       "</style>\n",
       "<table border=\"1\" class=\"dataframe\">\n",
       "  <thead>\n",
       "    <tr style=\"text-align: right;\">\n",
       "      <th></th>\n",
       "      <th>Arrival Approximation</th>\n",
       "      <th>Counts</th>\n",
       "      <th>Percentage</th>\n",
       "    </tr>\n",
       "  </thead>\n",
       "  <tbody>\n",
       "    <tr>\n",
       "      <th>0</th>\n",
       "      <td>approaching</td>\n",
       "      <td>382261</td>\n",
       "      <td>38.2%</td>\n",
       "    </tr>\n",
       "    <tr>\n",
       "      <th>1</th>\n",
       "      <td>&lt; 1 stop away</td>\n",
       "      <td>341566</td>\n",
       "      <td>34.2%</td>\n",
       "    </tr>\n",
       "    <tr>\n",
       "      <th>2</th>\n",
       "      <td>at stop</td>\n",
       "      <td>242694</td>\n",
       "      <td>24.3%</td>\n",
       "    </tr>\n",
       "    <tr>\n",
       "      <th>3</th>\n",
       "      <td>0.6 miles away</td>\n",
       "      <td>6034</td>\n",
       "      <td>0.6%</td>\n",
       "    </tr>\n",
       "    <tr>\n",
       "      <th>4</th>\n",
       "      <td>0.5 miles away</td>\n",
       "      <td>4493</td>\n",
       "      <td>0.4%</td>\n",
       "    </tr>\n",
       "    <tr>\n",
       "      <th>5</th>\n",
       "      <td>0.7 miles away</td>\n",
       "      <td>3805</td>\n",
       "      <td>0.4%</td>\n",
       "    </tr>\n",
       "    <tr>\n",
       "      <th>6</th>\n",
       "      <td>0.8 miles away</td>\n",
       "      <td>2127</td>\n",
       "      <td>0.2%</td>\n",
       "    </tr>\n",
       "    <tr>\n",
       "      <th>7</th>\n",
       "      <td>0.9 miles away</td>\n",
       "      <td>1723</td>\n",
       "      <td>0.2%</td>\n",
       "    </tr>\n",
       "    <tr>\n",
       "      <th>8</th>\n",
       "      <td>1.0 miles away</td>\n",
       "      <td>1489</td>\n",
       "      <td>0.1%</td>\n",
       "    </tr>\n",
       "    <tr>\n",
       "      <th>9</th>\n",
       "      <td>1.1 miles away</td>\n",
       "      <td>978</td>\n",
       "      <td>0.1%</td>\n",
       "    </tr>\n",
       "  </tbody>\n",
       "</table>\n",
       "</div>"
      ],
      "text/plain": [
       "  Arrival Approximation  Counts Percentage\n",
       "0           approaching  382261      38.2%\n",
       "1         < 1 stop away  341566      34.2%\n",
       "2               at stop  242694      24.3%\n",
       "3        0.6 miles away    6034       0.6%\n",
       "4        0.5 miles away    4493       0.4%\n",
       "5        0.7 miles away    3805       0.4%\n",
       "6        0.8 miles away    2127       0.2%\n",
       "7        0.9 miles away    1723       0.2%\n",
       "8        1.0 miles away    1489       0.1%\n",
       "9        1.1 miles away     978       0.1%"
      ]
     },
     "execution_count": 20,
     "metadata": {},
     "output_type": "execute_result"
    }
   ],
   "source": [
    "# Calculate the Percentage of each type\n",
    "percentage = np.round(np.asarray(df5.Counts) / len(df), 3) * 100\n",
    "df5['Percentage'] = ['%.1f' % d + '%'  for d in percentage]\n",
    "\n",
    "df5"
   ]
  },
  {
   "cell_type": "code",
   "execution_count": 21,
   "id": "84b6aa24",
   "metadata": {
    "scrolled": false
   },
   "outputs": [
    {
     "data": {
      "text/html": [
       "<div>\n",
       "<style scoped>\n",
       "    .dataframe tbody tr th:only-of-type {\n",
       "        vertical-align: middle;\n",
       "    }\n",
       "\n",
       "    .dataframe tbody tr th {\n",
       "        vertical-align: top;\n",
       "    }\n",
       "\n",
       "    .dataframe thead th {\n",
       "        text-align: right;\n",
       "    }\n",
       "</style>\n",
       "<table border=\"1\" class=\"dataframe\">\n",
       "  <thead>\n",
       "    <tr style=\"text-align: right;\">\n",
       "      <th></th>\n",
       "      <th>Arrival Approximation</th>\n",
       "      <th>Counts</th>\n",
       "      <th>Percentage</th>\n",
       "    </tr>\n",
       "  </thead>\n",
       "  <tbody>\n",
       "    <tr>\n",
       "      <th>0</th>\n",
       "      <td>approaching</td>\n",
       "      <td>382261</td>\n",
       "      <td>38.2%</td>\n",
       "    </tr>\n",
       "    <tr>\n",
       "      <th>1</th>\n",
       "      <td>&lt; 1 stop away</td>\n",
       "      <td>341566</td>\n",
       "      <td>34.2%</td>\n",
       "    </tr>\n",
       "    <tr>\n",
       "      <th>2</th>\n",
       "      <td>at stop</td>\n",
       "      <td>242694</td>\n",
       "      <td>24.3%</td>\n",
       "    </tr>\n",
       "    <tr>\n",
       "      <th>3</th>\n",
       "      <td>Others</td>\n",
       "      <td>33479</td>\n",
       "      <td>3.3%</td>\n",
       "    </tr>\n",
       "  </tbody>\n",
       "</table>\n",
       "</div>"
      ],
      "text/plain": [
       "  Arrival Approximation  Counts Percentage\n",
       "0           approaching  382261      38.2%\n",
       "1         < 1 stop away  341566      34.2%\n",
       "2               at stop  242694      24.3%\n",
       "3                Others   33479       3.3%"
      ]
     },
     "execution_count": 21,
     "metadata": {},
     "output_type": "execute_result"
    }
   ],
   "source": [
    "# pick top three rows\n",
    "df6 = df5[:3]\n",
    "\n",
    "# set the last rows for Others data\n",
    "df6.loc[len(df6)] = ['Others', (len(df) - sum(df6.Counts)), \n",
    "                     '%.1f' % (round((1 - (sum(df6.Counts) / len(df))), 3) * 100) + '%']\n",
    "\n",
    "df6"
   ]
  },
  {
   "cell_type": "code",
   "execution_count": 22,
   "id": "842eae54",
   "metadata": {},
   "outputs": [
    {
     "data": {
      "image/png": "[encoded data removed]",
      "text/plain": [
       "<Figure size 432x432 with 1 Axes>"
      ]
     },
     "metadata": {},
     "output_type": "display_data"
    }
   ],
   "source": [
    "df6.groupby(['Arrival Approximation']).sum().plot(kind='pie', y='Counts', autopct='%1.0f%%', \n",
    "                                                  title = 'Arrival Approximation Percentage',\n",
    "                                                  startangle=170, figsize=(6,6))\n",
    "\n",
    "plt.axis('off')\n",
    "plt.savefig('../Documentation/Figure/fig_06.png',  bbox_inches='tight')\n",
    "plt.show()"
   ]
  },
  {
   "cell_type": "code",
   "execution_count": 23,
   "id": "29c83092",
   "metadata": {},
   "outputs": [
    {
     "data": {
      "image/png": "[encoded data removed]",
      "text/plain": [
       "<Figure size 720x504 with 1 Axes>"
      ]
     },
     "metadata": {
      "needs_background": "light"
     },
     "output_type": "display_data"
    }
   ],
   "source": [
    "df.boxplot('delays', figsize=(10,7))\n",
    "plt.title('Boxplot of delay time')\n",
    "plt.savefig('../Documentation/Figure/fig_07.png',  bbox_inches='tight')\n",
    "plt.show()"
   ]
  },
  {
   "cell_type": "code",
   "execution_count": 24,
   "id": "dff78b25",
   "metadata": {},
   "outputs": [
    {
     "data": {
      "text/html": [
       "<div>\n",
       "<style scoped>\n",
       "    .dataframe tbody tr th:only-of-type {\n",
       "        vertical-align: middle;\n",
       "    }\n",
       "\n",
       "    .dataframe tbody tr th {\n",
       "        vertical-align: top;\n",
       "    }\n",
       "\n",
       "    .dataframe thead th {\n",
       "        text-align: right;\n",
       "    }\n",
       "</style>\n",
       "<table border=\"1\" class=\"dataframe\">\n",
       "  <thead>\n",
       "    <tr style=\"text-align: right;\">\n",
       "      <th></th>\n",
       "      <th>interval</th>\n",
       "      <th>counts</th>\n",
       "      <th>percentage</th>\n",
       "    </tr>\n",
       "  </thead>\n",
       "  <tbody>\n",
       "    <tr>\n",
       "      <th>0</th>\n",
       "      <td>=0</td>\n",
       "      <td>264290</td>\n",
       "      <td>26.4</td>\n",
       "    </tr>\n",
       "    <tr>\n",
       "      <th>1</th>\n",
       "      <td>&gt;0 and &lt;=5</td>\n",
       "      <td>373000</td>\n",
       "      <td>37.3</td>\n",
       "    </tr>\n",
       "    <tr>\n",
       "      <th>2</th>\n",
       "      <td>&gt;5 and &lt;=10</td>\n",
       "      <td>172606</td>\n",
       "      <td>17.3</td>\n",
       "    </tr>\n",
       "    <tr>\n",
       "      <th>3</th>\n",
       "      <td>&gt;10 and &lt;=20</td>\n",
       "      <td>126007</td>\n",
       "      <td>12.6</td>\n",
       "    </tr>\n",
       "    <tr>\n",
       "      <th>4</th>\n",
       "      <td>&gt;20 and &lt;=50</td>\n",
       "      <td>57627</td>\n",
       "      <td>5.8</td>\n",
       "    </tr>\n",
       "    <tr>\n",
       "      <th>5</th>\n",
       "      <td>&gt;50</td>\n",
       "      <td>6470</td>\n",
       "      <td>0.6</td>\n",
       "    </tr>\n",
       "  </tbody>\n",
       "</table>\n",
       "</div>"
      ],
      "text/plain": [
       "       interval  counts  percentage\n",
       "0            =0  264290        26.4\n",
       "1    >0 and <=5  373000        37.3\n",
       "2   >5 and <=10  172606        17.3\n",
       "3  >10 and <=20  126007        12.6\n",
       "4  >20 and <=50   57627         5.8\n",
       "5           >50    6470         0.6"
      ]
     },
     "execution_count": 24,
     "metadata": {},
     "output_type": "execute_result"
    }
   ],
   "source": [
    "# Make interval for different delay amounts\n",
    "t0     = len(df[(df['delays'] == 0)])\n",
    "t0_5   = len(df[(df['delays'] > 0)  & (df['delays'] <= 5)])\n",
    "t5_10  = len(df[(df['delays'] > 5)  & (df['delays'] <= 10)])\n",
    "t10_20 = len(df[(df['delays'] > 10) & (df['delays'] <= 20)])\n",
    "t20_50 = len(df[(df['delays'] > 20) & (df['delays'] <=50 )])\n",
    "t50    = len(df[df['delays'] > 50])\n",
    "\n",
    "interval = ['=0', '>0 and <=5', '>5 and <=10', '>10 and <=20', '>20 and <=50', '>50']\n",
    "counts = [t0, t0_5, t5_10, t10_20, t20_50, t50]\n",
    "percentage = np.round((np.asarray(counts) / len(df)), 3) * 100\n",
    "\n",
    "df7 = pd.DataFrame({'interval' : interval, 'counts' : counts, 'percentage' : percentage})\n",
    "df7"
   ]
  },
  {
   "cell_type": "code",
   "execution_count": 25,
   "id": "d9ae70c1",
   "metadata": {},
   "outputs": [
    {
     "data": {
      "image/png": "[encoded data removed]",
      "text/plain": [
       "<Figure size 576x576 with 1 Axes>"
      ]
     },
     "metadata": {},
     "output_type": "display_data"
    }
   ],
   "source": [
    "# Plot the interval data\n",
    "df7.groupby(['interval']).sum().plot(kind='pie', y='counts', autopct='%1.0f%%', \n",
    "                                     title = 'Delay time interval with their frequency percentage',\n",
    "                                     startangle=45, figsize=(8,8))\n",
    "\n",
    "plt.axis('off')\n",
    "plt.savefig('../Documentation/Figure/fig_08.png',  bbox_inches='tight')\n",
    "plt.show()"
   ]
  },
  {
   "cell_type": "code",
   "execution_count": 26,
   "id": "502b05a3",
   "metadata": {},
   "outputs": [
    {
     "data": {
      "image/png": "[encoded data removed]",
      "text/plain": [
       "<Figure size 432x432 with 1 Axes>"
      ]
     },
     "metadata": {},
     "output_type": "display_data"
    }
   ],
   "source": [
    "# Plot weekend status data\n",
    "df['weekend_status'].value_counts().plot(kind='pie', autopct='%1.0f%%', \n",
    "                                         title='Percentage of weekend', figsize=(6,6))\n",
    "\n",
    "plt.axis('off')\n",
    "plt.savefig('../Documentation/Figure/fig_09.png',  bbox_inches='tight')\n",
    "plt.show()"
   ]
  },
  {
   "cell_type": "code",
   "execution_count": 27,
   "id": "e9281e60",
   "metadata": {},
   "outputs": [
    {
     "data": {
      "image/png": "[encoded data removed]",
      "text/plain": [
       "<Figure size 720x504 with 1 Axes>"
      ]
     },
     "metadata": {
      "needs_background": "light"
     },
     "output_type": "display_data"
    }
   ],
   "source": [
    "# plot day of the year\n",
    "df.boxplot('day_of_year', figsize=(10,7))\n",
    "plt.title('Boxplot of day of the year')\n",
    "plt.savefig('../Documentation/Figure/fig_10.png',  bbox_inches='tight')\n",
    "plt.show()"
   ]
  },
  {
   "cell_type": "code",
   "execution_count": 28,
   "id": "12e0d554",
   "metadata": {},
   "outputs": [
    {
     "data": {
      "image/png": "[encoded data removed]",
      "text/plain": [
       "<Figure size 432x288 with 1 Axes>"
      ]
     },
     "metadata": {
      "needs_background": "light"
     },
     "output_type": "display_data"
    }
   ],
   "source": [
    "# Analyze schedule date data\n",
    "\n",
    "df.hist('day_of_year', bins=12)\n",
    "plt.savefig('../Documentation/Figure/fig_11.png',  bbox_inches='tight')\n",
    "plt.show()"
   ]
  },
  {
   "cell_type": "code",
   "execution_count": 29,
   "id": "334a82ba",
   "metadata": {},
   "outputs": [
    {
     "name": "stdout",
     "output_type": "stream",
     "text": [
      "Total Unique Month: [ 6 12 10  8 11  1  7]\n"
     ]
    }
   ],
   "source": [
    "# get month number in the dataset\n",
    "unique_month = df.month_number.unique()\n",
    "print(f'Total Unique Month: {unique_month}')"
   ]
  },
  {
   "cell_type": "code",
   "execution_count": 30,
   "id": "f5f10856",
   "metadata": {},
   "outputs": [
    {
     "name": "stdout",
     "output_type": "stream",
     "text": [
      "The volumns of month 6 is: 263491\n",
      "The volumns of month 12 is: 229950\n",
      "The volumns of month 10 is: 259155\n",
      "The volumns of month 8 is: 247393\n",
      "The volumns of month 11 is: 9\n",
      "The volumns of month 1 is: 1\n",
      "The volumns of month 7 is: 1\n"
     ]
    }
   ],
   "source": [
    "# Month and their frequrncy\n",
    "for month in unique_month:\n",
    "    counts = len(df['schedule_arr_time'][df['month_number'] == month])\n",
    "    print(f'The volumns of month {month} is: {counts}')"
   ]
  },
  {
   "cell_type": "markdown",
   "id": "71a6fe9c",
   "metadata": {},
   "source": [
    "#### Most Important features: \n",
    "line_name<br>\n",
    "org_name<br>\n",
    "dest_name<br>\n",
    "vech_name<br>\n",
    "day_of_year<br>\n",
    "month_number<br>\n",
    "day_of_month<br>\n",
    "time_of_day<br>\n",
    "weekend_status<br>\n",
    "delays<br>"
   ]
  },
  {
   "cell_type": "code",
   "execution_count": 31,
   "id": "8113b181",
   "metadata": {},
   "outputs": [
    {
     "data": {
      "text/html": [
       "<div>\n",
       "<style scoped>\n",
       "    .dataframe tbody tr th:only-of-type {\n",
       "        vertical-align: middle;\n",
       "    }\n",
       "\n",
       "    .dataframe tbody tr th {\n",
       "        vertical-align: top;\n",
       "    }\n",
       "\n",
       "    .dataframe thead th {\n",
       "        text-align: right;\n",
       "    }\n",
       "</style>\n",
       "<table border=\"1\" class=\"dataframe\">\n",
       "  <thead>\n",
       "    <tr style=\"text-align: right;\">\n",
       "      <th></th>\n",
       "      <th>line_name</th>\n",
       "      <th>org_name</th>\n",
       "      <th>dest_name</th>\n",
       "      <th>vech_name</th>\n",
       "      <th>weekend_status</th>\n",
       "      <th>day_of_year</th>\n",
       "      <th>month_number</th>\n",
       "      <th>day_of_month</th>\n",
       "      <th>time_of_day</th>\n",
       "      <th>delays</th>\n",
       "    </tr>\n",
       "  </thead>\n",
       "  <tbody>\n",
       "    <tr>\n",
       "      <th>0</th>\n",
       "      <td>B46-SBS</td>\n",
       "      <td>UTICA AV/AV N</td>\n",
       "      <td>SELECT BUS De KALB AV via UTICA</td>\n",
       "      <td>NYCT_7330</td>\n",
       "      <td>False</td>\n",
       "      <td>156</td>\n",
       "      <td>6</td>\n",
       "      <td>5</td>\n",
       "      <td>439</td>\n",
       "      <td>1.85</td>\n",
       "    </tr>\n",
       "    <tr>\n",
       "      <th>1</th>\n",
       "      <td>M101</td>\n",
       "      <td>LEXINGTON AV/E 100 ST</td>\n",
       "      <td>LTD EAST VILLAGE 6 ST via LEX AV</td>\n",
       "      <td>NYCT_6057</td>\n",
       "      <td>False</td>\n",
       "      <td>342</td>\n",
       "      <td>12</td>\n",
       "      <td>8</td>\n",
       "      <td>721</td>\n",
       "      <td>10.03</td>\n",
       "    </tr>\n",
       "    <tr>\n",
       "      <th>2</th>\n",
       "      <td>Bx31</td>\n",
       "      <td>TREMONT AV/LANE AV</td>\n",
       "      <td>WOODLAWN KATONAH AV</td>\n",
       "      <td>NYCT_7703</td>\n",
       "      <td>False</td>\n",
       "      <td>298</td>\n",
       "      <td>10</td>\n",
       "      <td>25</td>\n",
       "      <td>341</td>\n",
       "      <td>0.10</td>\n",
       "    </tr>\n",
       "    <tr>\n",
       "      <th>3</th>\n",
       "      <td>Q20A</td>\n",
       "      <td>COLLEGE PT BL/15 AV</td>\n",
       "      <td>JAMAICA  MERRICK BL via 20 AV via MAIN S</td>\n",
       "      <td>NYCT_7391</td>\n",
       "      <td>False</td>\n",
       "      <td>278</td>\n",
       "      <td>10</td>\n",
       "      <td>5</td>\n",
       "      <td>825</td>\n",
       "      <td>0.15</td>\n",
       "    </tr>\n",
       "    <tr>\n",
       "      <th>4</th>\n",
       "      <td>Bx34</td>\n",
       "      <td>VALENTINE AV/E FORDHAM RD</td>\n",
       "      <td>WOODLAWN KATONAH AV</td>\n",
       "      <td>NYCT_4102</td>\n",
       "      <td>False</td>\n",
       "      <td>347</td>\n",
       "      <td>12</td>\n",
       "      <td>13</td>\n",
       "      <td>439</td>\n",
       "      <td>0.23</td>\n",
       "    </tr>\n",
       "  </tbody>\n",
       "</table>\n",
       "</div>"
      ],
      "text/plain": [
       "  line_name                   org_name  \\\n",
       "0   B46-SBS              UTICA AV/AV N   \n",
       "1      M101      LEXINGTON AV/E 100 ST   \n",
       "2      Bx31         TREMONT AV/LANE AV   \n",
       "3      Q20A        COLLEGE PT BL/15 AV   \n",
       "4      Bx34  VALENTINE AV/E FORDHAM RD   \n",
       "\n",
       "                                  dest_name  vech_name  weekend_status  \\\n",
       "0           SELECT BUS De KALB AV via UTICA  NYCT_7330           False   \n",
       "1          LTD EAST VILLAGE 6 ST via LEX AV  NYCT_6057           False   \n",
       "2                       WOODLAWN KATONAH AV  NYCT_7703           False   \n",
       "3  JAMAICA  MERRICK BL via 20 AV via MAIN S  NYCT_7391           False   \n",
       "4                       WOODLAWN KATONAH AV  NYCT_4102           False   \n",
       "\n",
       "   day_of_year  month_number  day_of_month  time_of_day  delays  \n",
       "0          156             6             5          439    1.85  \n",
       "1          342            12             8          721   10.03  \n",
       "2          298            10            25          341    0.10  \n",
       "3          278            10             5          825    0.15  \n",
       "4          347            12            13          439    0.23  "
      ]
     },
     "execution_count": 31,
     "metadata": {},
     "output_type": "execute_result"
    }
   ],
   "source": [
    "modify_df = df[['line_name', 'org_name', 'dest_name', 'vech_name', 'weekend_status', 'day_of_year', \n",
    "                'month_number', 'day_of_month', 'time_of_day', 'delays']]\n",
    "modify_df.head()"
   ]
  },
  {
   "cell_type": "code",
   "execution_count": 32,
   "id": "062486bd",
   "metadata": {},
   "outputs": [],
   "source": [
    "# save new dataset\n",
    "modify_df.to_csv('../data/nyc_data/final_dataset.csv', index=False, compression='gzip')"
   ]
  },
  {
   "cell_type": "code",
   "execution_count": null,
   "id": "34cff6b5",
   "metadata": {},
   "outputs": [],
   "source": []
  }
 ],
 "metadata": {
  "kernelspec": {
   "display_name": "Python 3 (ipykernel)",
   "language": "python",
   "name": "python3"
  },
  "language_info": {
   "codemirror_mode": {
    "name": "ipython",
    "version": 3
   },
   "file_extension": ".py",
   "mimetype": "text/x-python",
   "name": "python",
   "nbconvert_exporter": "python",
   "pygments_lexer": "ipython3",
   "version": "3.9.12"
  }
 },
 "nbformat": 4,
 "nbformat_minor": 5
}
