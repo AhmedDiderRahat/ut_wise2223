{
 "cells": [
  {
   "cell_type": "markdown",
   "id": "e748bd52",
   "metadata": {},
   "source": [
    "## Project: NYC Bus Delay Prediction"
   ]
  },
  {
   "cell_type": "markdown",
   "id": "987cebe7",
   "metadata": {},
   "source": [
    "### Chapter-01: Data Preperation: \n",
    "\n",
    "<b>Data Source: </b> https://www.kaggle.com/datasets/stoney71/new-york-city-transport-statistics"
   ]
  },
  {
   "cell_type": "code",
   "execution_count": null,
   "id": "0088438a",
   "metadata": {},
   "outputs": [],
   "source": [
    "# import all necessary libraries\n",
    "\n",
    "import pandas as pd\n",
    "import numpy as np\n",
    "import calendar\n",
    "pd.options.mode.chained_assignment = None\n",
    "from datetime import datetime, timedelta"
   ]
  },
  {
   "cell_type": "code",
   "execution_count": null,
   "id": "938dbff5",
   "metadata": {},
   "outputs": [],
   "source": [
    "# file names\n",
    "files = ['mta_1706', 'mta_1708', 'mta_1710', 'mta_1712']\n",
    "\n",
    "# data frames \n",
    "data_farmes = []\n",
    "\n",
    "for file in files:\n",
    "    dfs = pd.read_csv(f'../data/nyc_data/original_data/{file}.csv.zip', error_bad_lines=False)\n",
    "    \n",
    "    data_farmes.append(dfs)"
   ]
  },
  {
   "cell_type": "code",
   "execution_count": null,
   "id": "6b1328d7",
   "metadata": {},
   "outputs": [],
   "source": [
    "df = pd.concat(data_farmes)\n",
    "print(f'Size of the dataset: {df.shape}')"
   ]
  },
  {
   "cell_type": "markdown",
   "id": "d33c1358",
   "metadata": {},
   "source": [
    "Seen that, there are a lot of data point that has missmatched number of rows"
   ]
  },
  {
   "cell_type": "code",
   "execution_count": null,
   "id": "4fd05cf6",
   "metadata": {},
   "outputs": [],
   "source": [
    "# Header of the dataset\n",
    "df.head()"
   ]
  },
  {
   "cell_type": "code",
   "execution_count": null,
   "id": "a3619fbb",
   "metadata": {},
   "outputs": [],
   "source": [
    "# get columns name\n",
    "list(df.columns)"
   ]
  },
  {
   "cell_type": "code",
   "execution_count": null,
   "id": "1da6011a",
   "metadata": {},
   "outputs": [],
   "source": [
    "# Rename the column name\n",
    "df = df.rename(columns={'RecordedAtTime' : 'recorded_at', 'DirectionRef': 'direction', 'PublishedLineName' : \n",
    "                        'line_name', 'OriginName' : 'org_name', 'OriginLat' : 'org_lat', 'OriginLong' : 'org_long', \n",
    "                        'DestinationName' : 'dest_name', 'DestinationLat' : 'dest_lat', 'DestinationLong' : \n",
    "                        'dest_long', 'VehicleRef' : 'vech_name', 'VehicleLocation.Latitude' : 'vech_lat', \n",
    "                        'VehicleLocation.Longitude' : 'vech_long', 'NextStopPointName' : 'next_point_name', \n",
    "                        'ArrivalProximityText' : 'arrivial_app', 'DistanceFromStop' : 'dist_from_stop', \n",
    "                        'ExpectedArrivalTime': 'expected_arr_time', 'ScheduledArrivalTime' : 'schedule_arr_time'})"
   ]
  },
  {
   "cell_type": "code",
   "execution_count": null,
   "id": "c58090eb",
   "metadata": {},
   "outputs": [],
   "source": [
    "list(df.columns)"
   ]
  },
  {
   "cell_type": "code",
   "execution_count": null,
   "id": "6cb67716",
   "metadata": {},
   "outputs": [],
   "source": [
    "# Check first 5 data points\n",
    "df.head()"
   ]
  },
  {
   "cell_type": "code",
   "execution_count": null,
   "id": "efe05f8c",
   "metadata": {},
   "outputs": [],
   "source": [
    "(df['schedule_arr_time']).describe()"
   ]
  },
  {
   "cell_type": "code",
   "execution_count": null,
   "id": "a4e7d44c",
   "metadata": {},
   "outputs": [],
   "source": [
    "df['expected_arr_time'].info()"
   ]
  },
  {
   "cell_type": "code",
   "execution_count": null,
   "id": "876e242e",
   "metadata": {},
   "outputs": [],
   "source": [
    "df['schedule_arr_time'].info()"
   ]
  },
  {
   "cell_type": "code",
   "execution_count": null,
   "id": "82247557",
   "metadata": {},
   "outputs": [],
   "source": [
    "null_checks =  df[['expected_arr_time', 'schedule_arr_time']].isnull().any(axis=1).value_counts()\n",
    "print(f'Null Counts: \\n{null_checks}')"
   ]
  },
  {
   "cell_type": "code",
   "execution_count": null,
   "id": "733ea3c5",
   "metadata": {},
   "outputs": [],
   "source": [
    "# Drop Rows whose have nan in expected_arrival_time or schedule_arrival_time\n",
    "df = df.dropna(subset = ['expected_arr_time', 'schedule_arr_time'])\n",
    "len(df) # Actual Counts: 26520716 [26.5 M]"
   ]
  },
  {
   "cell_type": "code",
   "execution_count": null,
   "id": "38af2dd9",
   "metadata": {},
   "outputs": [],
   "source": [
    "# Null value counts\n",
    "all_columns = list(df.columns)\n",
    "\n",
    "for element in all_columns:\n",
    "    print(f'In row {element}, total number of Null values: {df[element].isna().sum()}')"
   ]
  },
  {
   "cell_type": "code",
   "execution_count": null,
   "id": "cd66cf98",
   "metadata": {},
   "outputs": [],
   "source": [
    "# Check duplicate entries\n",
    "total_duplicate = len(df[df.drop_duplicates(keep='first')])\n",
    "print(f'Total Number of duplicate entries: {total_duplicate}')"
   ]
  },
  {
   "cell_type": "code",
   "execution_count": null,
   "id": "f43a29d4",
   "metadata": {},
   "outputs": [],
   "source": [
    "len(df) # Actual Counts: 22058456"
   ]
  },
  {
   "cell_type": "code",
   "execution_count": null,
   "id": "126c8a83",
   "metadata": {},
   "outputs": [],
   "source": [
    "# randomly select 1 M data points\n",
    "df = df.sample(n = 1000000, replace = False)\n",
    "print(f'Size of the dataset: {df.shape}')"
   ]
  },
  {
   "cell_type": "code",
   "execution_count": null,
   "id": "2e0e520f",
   "metadata": {},
   "outputs": [],
   "source": [
    "df[['expected_arr_time', 'schedule_arr_time']][:5]"
   ]
  },
  {
   "cell_type": "code",
   "execution_count": null,
   "id": "594acd08",
   "metadata": {},
   "outputs": [],
   "source": [
    "df.head()"
   ]
  },
  {
   "cell_type": "code",
   "execution_count": null,
   "id": "f244a2fd",
   "metadata": {},
   "outputs": [],
   "source": [
    "# Getting schedule date from expected date time and schedule time\n",
    "\n",
    "def fetched_expected_date(expected, schedule):\n",
    "    \n",
    "    new_schedule_dt = []\n",
    "    \n",
    "    for ind in range(len(expected)):\n",
    "                \n",
    "        try:\n",
    "            # split date-time\n",
    "            arr = expected[ind].split(' ')\n",
    "            expt_date = arr[0]\n",
    "            expt_time = arr[1]\n",
    "            \n",
    "            # schedule time only\n",
    "            sch_time = schedule[ind]\n",
    "\n",
    "            sch_date = ''\n",
    "            \n",
    "            # schedule data split from HH:MM:SS\n",
    "            sch_arr = sch_time.split(':')\n",
    "            \n",
    "            # schedule hour\n",
    "            sch_HH = int(sch_arr[0])\n",
    "            \n",
    "\n",
    "            if sch_HH > 23:\n",
    "                # make date object\n",
    "                date_object = datetime.strptime(expt_date, '%Y-%m-%d').date()\n",
    "\n",
    "                if (expt_time.startswith('23') or expt_time.startswith('22')): \n",
    "                    # add one day\n",
    "                    sch_date = date_object + timedelta(days=1)\n",
    "                else:\n",
    "                    # for same day\n",
    "                    sch_date = str(date_object)\n",
    "                    \n",
    "\n",
    "                # change the time: 24-26 to 00-02\n",
    "                hh = '0' + str(sch_HH - 24)\n",
    "                \n",
    "                sch_time = hh + ':' + sch_arr[1] + ':' + sch_arr[2]\n",
    "                \n",
    "            else:\n",
    "                \n",
    "                if sch_HH <= 2 and (expt_time.startswith('23') or expt_time.startswith('22')):\n",
    "                    # make date object\n",
    "                    date_object = datetime.strptime(expt_date, '%Y-%m-%d').date()\n",
    "                    sch_date = date_object + timedelta(days=1)\n",
    "                else:\n",
    "                    sch_date = expt_date\n",
    "            \n",
    "            new_schedule_dt.append(str(sch_date).strip() + ' ' + str(sch_time).strip())\n",
    "        except Exception as e:\n",
    "            new_schedule_dt.append('')\n",
    "            print(f'Error for: {expected[ind]} and {schedule[ind]} Error= {str(e)}')\n",
    "        \n",
    "    return new_schedule_dt"
   ]
  },
  {
   "cell_type": "code",
   "execution_count": null,
   "id": "5306f167",
   "metadata": {},
   "outputs": [],
   "source": [
    "df['schedule_arr_time'] = fetched_expected_date(list(df['expected_arr_time']), list(df['schedule_arr_time']))\n",
    "df.head()"
   ]
  },
  {
   "cell_type": "code",
   "execution_count": null,
   "id": "4e7e5ee9",
   "metadata": {},
   "outputs": [],
   "source": [
    "# check weekend ot not\n",
    "def weekendCalculation(schedule_dt):\n",
    "    \n",
    "    is_weekend = []\n",
    "    \n",
    "    for ind in range(len(schedule_dt)):\n",
    "        \n",
    "        schedule_dt_arr = schedule_dt[ind].split(' ')\n",
    "        \n",
    "        schedule_date = schedule_dt_arr[0]\n",
    "        schedule_time = schedule_dt_arr[1]\n",
    "        \n",
    "        try:               \n",
    "            # make date time object\n",
    "            schedule_dt_object = datetime.strptime(schedule_dt[ind], '%Y-%m-%d %H:%M:%S')\n",
    "            day = calendar.day_name[schedule_dt_object.weekday()]\n",
    "                        \n",
    "            if day == 'Saturday' or day == 'Sunday':\n",
    "                is_weekend.append(True)\n",
    "            else:\n",
    "                is_weekend.append(False)\n",
    "\n",
    "        except Exception as e:\n",
    "            is_weekend.append(False)\n",
    "            print(f'Error for: {schedule_dt[ind]} Error= {str(e)}')\n",
    "    return is_weekend"
   ]
  },
  {
   "cell_type": "code",
   "execution_count": null,
   "id": "de98efe0",
   "metadata": {},
   "outputs": [],
   "source": [
    "df['weekend_status'] = weekendCalculation(list(df['schedule_arr_time']))\n",
    "df.head()"
   ]
  },
  {
   "cell_type": "code",
   "execution_count": null,
   "id": "e08cde4f",
   "metadata": {},
   "outputs": [],
   "source": [
    "# fetched the day of year, day of month, month number and schedule time in min\n",
    "\n",
    "def day_of_year(schedule):\n",
    "    \n",
    "    day_of_years = []\n",
    "    schedlue_time = []\n",
    "    day_of_months = []\n",
    "    months_number = []\n",
    "    \n",
    "    for ind in range(len(schedule)):\n",
    "                \n",
    "        schedule_arr = schedule[ind].split()\n",
    "        \n",
    "        scd_date = schedule_arr[0]\n",
    "        scd_time = schedule_arr[1]\n",
    "        \n",
    "        \n",
    "        date_obj = datetime.strptime(scd_date, '%Y-%m-%d')\n",
    "        day_of_year = date_obj.timetuple().tm_yday\n",
    "\n",
    "        # date arr\n",
    "        date_arr = scd_date.split('-')\n",
    "\n",
    "        time_obj = scd_time.split(':')\n",
    "        min_of_day = int(time_obj[0]) * 60 + int(time_obj[1])\n",
    "\n",
    "        day_of_years.append(int(day_of_year))\n",
    "        schedlue_time.append(int(min_of_day))\n",
    "        day_of_months.append(int(date_arr[2]))\n",
    "        months_number.append(int(date_arr[1]))\n",
    "            \n",
    "    return [day_of_years, months_number, day_of_months, schedlue_time]   "
   ]
  },
  {
   "cell_type": "code",
   "execution_count": null,
   "id": "53e30fc0",
   "metadata": {},
   "outputs": [],
   "source": [
    "response = day_of_year(list(df['schedule_arr_time']))\n",
    "df['day_of_year'] = response[0]\n",
    "df['month_number'] = response[1]\n",
    "df['day_of_month'] = response[2]\n",
    "df['time_of_day'] = response[3]"
   ]
  },
  {
   "cell_type": "code",
   "execution_count": null,
   "id": "812eeabc",
   "metadata": {
    "scrolled": false
   },
   "outputs": [],
   "source": [
    "# Delay time calculation\n",
    "\n",
    "def calculate_delay(expected, schedule):\n",
    "    \n",
    "    delays = []\n",
    "    \n",
    "    for ind in range(len(expected)):\n",
    "                \n",
    "        try:               \n",
    "            # make date time object\n",
    "            exp_dt = datetime.strptime(expected[ind], '%Y-%m-%d %H:%M:%S')\n",
    "            scd_dt = datetime.strptime(schedule[ind], '%Y-%m-%d %H:%M:%S')\n",
    "            \n",
    "            # convert to mint.\n",
    "            difference_min = round(((exp_dt - scd_dt).total_seconds() / 60.0), 2)\n",
    "\n",
    "            delays.append(0 if difference_min < 0 else difference_min)\n",
    "        except Exception as e:\n",
    "            delays.append(0)\n",
    "            print(f'Error for: {expected[ind]} and {schedule[ind]} Error= {str(e)}')\n",
    "        \n",
    "    return delays"
   ]
  },
  {
   "cell_type": "code",
   "execution_count": null,
   "id": "71f0419f",
   "metadata": {},
   "outputs": [],
   "source": [
    "df['delays'] = calculate_delay(list(df['expected_arr_time']), list(df['schedule_arr_time']))\n",
    "df.head()"
   ]
  },
  {
   "cell_type": "code",
   "execution_count": null,
   "id": "2c1694ba",
   "metadata": {},
   "outputs": [],
   "source": [
    "volumns = len(df[['expected_arr_time', 'schedule_arr_time', 'delays']][df['delays'] >= 300])\n",
    "print(f'Number of exapmles with more then 300 min delay: {volumns}')"
   ]
  },
  {
   "cell_type": "code",
   "execution_count": null,
   "id": "b5363750",
   "metadata": {},
   "outputs": [],
   "source": [
    "print(f'Maximum value for delay time: {max(df.delays)}')"
   ]
  },
  {
   "cell_type": "code",
   "execution_count": null,
   "id": "a47067fe",
   "metadata": {},
   "outputs": [],
   "source": [
    "df.columns"
   ]
  },
  {
   "cell_type": "code",
   "execution_count": null,
   "id": "fbaecb7e",
   "metadata": {},
   "outputs": [],
   "source": [
    "# save new dataset\n",
    "df.to_csv('../data/nyc_data/updated_dataset.csv', index=False, compression='gzip')"
   ]
  },
  {
   "cell_type": "code",
   "execution_count": null,
   "id": "72893a00",
   "metadata": {},
   "outputs": [],
   "source": []
  }
 ],
 "metadata": {
  "kernelspec": {
   "display_name": "Python 3 (ipykernel)",
   "language": "python",
   "name": "python3"
  },
  "language_info": {
   "codemirror_mode": {
    "name": "ipython",
    "version": 3
   },
   "file_extension": ".py",
   "mimetype": "text/x-python",
   "name": "python",
   "nbconvert_exporter": "python",
   "pygments_lexer": "ipython3",
   "version": "3.9.12"
  }
 },
 "nbformat": 4,
 "nbformat_minor": 5
}
